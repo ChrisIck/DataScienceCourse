{
 "cells": [
  {
   "cell_type": "markdown",
   "metadata": {},
   "source": [
    "In this lab we're going to do simple data exploration using Pandas. Our objective is to learn basic operations that aid in visual data exploration.\n",
    "\n",
    "<br>\n",
    "\n",
    "First, let's import our required libraries and read in the data."
   ]
  },
  {
   "cell_type": "code",
   "execution_count": 5,
   "metadata": {},
   "outputs": [],
   "source": [
    "import pandas as pd\n",
    "import matplotlib.pyplot as plt\n",
    "import numpy as np\n",
    "import os\n",
    "\n",
    "\n",
    "cwd = os.getcwd()\n",
    "\n",
    "#If on MAC, this will likely work\n",
    "datadir = '/'.join(cwd.split('/')[0:-1]) + '/data/'\n",
    "#If on window's machine, explicitly put in data dir\n",
    "#datadir = \n",
    "\n",
    "%matplotlib inline\n",
    "\n",
    "#Now read in the dataset loansdata.csv\n",
    "loansData = pd.read_csv(datadir+ \"loansData.csv\")\n"
   ]
  },
  {
   "cell_type": "markdown",
   "metadata": {},
   "source": [
    "The full schema can be found <a href=\"https://github.com/herrfz/dataanalysis/blob/master/assignment1/Assignment1.pdf\">here</a>, but let's use native Pandas methods to also explore the data. Although not specified above, this csv has row headers and the read_csv function implicitly knows this. <br>\n",
    "\n",
    "Let's take a look at the column names, in a nicely readable way:"
   ]
  },
  {
   "cell_type": "code",
   "execution_count": 6,
   "metadata": {},
   "outputs": [
    {
     "name": "stdout",
     "output_type": "stream",
     "text": [
      "Column Names Are:\n",
      "\n",
      "CustNUm\n",
      "Amount.Requested\n",
      "Amount.Funded.By.Investors\n",
      "Interest.Rate\n",
      "Loan.Length\n",
      "Loan.Purpose\n",
      "Debt.To.Income.Ratio\n",
      "State\n",
      "Home.Ownership\n",
      "Monthly.Income\n",
      "FICO.Range\n",
      "Open.CREDIT.Lines\n",
      "Revolving.CREDIT.Balance\n",
      "Inquiries.in.the.Last.6.Months\n",
      "Employment.Length\n",
      "\n",
      "Total # of Columns = 15\n"
     ]
    }
   ],
   "source": [
    "print(\"Column Names Are:\")\n",
    "print(\"\")\n",
    "\n",
    "for column_name in loansData.columns.values:\n",
    "    print(column_name)\n",
    "\n",
    "print(\"\")\n",
    "print('Total # of Columns = {}'.format(len(loansData.columns)))"
   ]
  },
  {
   "cell_type": "markdown",
   "metadata": {},
   "source": [
    "It is oftentimes helpful to take a quick glance at the first few records (when possible). This is an easy way to discover basic data flaws (i.e., all nulls, misaligned fields, etc.). We can do this in Pandas very easily."
   ]
  },
  {
   "cell_type": "code",
   "execution_count": 7,
   "metadata": {},
   "outputs": [
    {
     "data": {
      "text/html": [
       "<div>\n",
       "<style scoped>\n",
       "    .dataframe tbody tr th:only-of-type {\n",
       "        vertical-align: middle;\n",
       "    }\n",
       "\n",
       "    .dataframe tbody tr th {\n",
       "        vertical-align: top;\n",
       "    }\n",
       "\n",
       "    .dataframe thead th {\n",
       "        text-align: right;\n",
       "    }\n",
       "</style>\n",
       "<table border=\"1\" class=\"dataframe\">\n",
       "  <thead>\n",
       "    <tr style=\"text-align: right;\">\n",
       "      <th></th>\n",
       "      <th>0</th>\n",
       "      <th>1</th>\n",
       "      <th>2</th>\n",
       "      <th>3</th>\n",
       "      <th>4</th>\n",
       "    </tr>\n",
       "  </thead>\n",
       "  <tbody>\n",
       "    <tr>\n",
       "      <th>CustNUm</th>\n",
       "      <td>81174</td>\n",
       "      <td>99592</td>\n",
       "      <td>80059</td>\n",
       "      <td>15825</td>\n",
       "      <td>33182</td>\n",
       "    </tr>\n",
       "    <tr>\n",
       "      <th>Amount.Requested</th>\n",
       "      <td>20000</td>\n",
       "      <td>19200</td>\n",
       "      <td>35000</td>\n",
       "      <td>10000</td>\n",
       "      <td>12000</td>\n",
       "    </tr>\n",
       "    <tr>\n",
       "      <th>Amount.Funded.By.Investors</th>\n",
       "      <td>20000</td>\n",
       "      <td>19200</td>\n",
       "      <td>35000</td>\n",
       "      <td>9975</td>\n",
       "      <td>12000</td>\n",
       "    </tr>\n",
       "    <tr>\n",
       "      <th>Interest.Rate</th>\n",
       "      <td>8.90%</td>\n",
       "      <td>12.12%</td>\n",
       "      <td>21.98%</td>\n",
       "      <td>9.99%</td>\n",
       "      <td>11.71%</td>\n",
       "    </tr>\n",
       "    <tr>\n",
       "      <th>Loan.Length</th>\n",
       "      <td>36 months</td>\n",
       "      <td>36 months</td>\n",
       "      <td>60 months</td>\n",
       "      <td>36 months</td>\n",
       "      <td>36 months</td>\n",
       "    </tr>\n",
       "    <tr>\n",
       "      <th>Loan.Purpose</th>\n",
       "      <td>debt_consolidation</td>\n",
       "      <td>debt_consolidation</td>\n",
       "      <td>debt_consolidation</td>\n",
       "      <td>debt_consolidation</td>\n",
       "      <td>credit_card</td>\n",
       "    </tr>\n",
       "    <tr>\n",
       "      <th>Debt.To.Income.Ratio</th>\n",
       "      <td>14.90%</td>\n",
       "      <td>28.36%</td>\n",
       "      <td>23.81%</td>\n",
       "      <td>14.30%</td>\n",
       "      <td>18.78%</td>\n",
       "    </tr>\n",
       "    <tr>\n",
       "      <th>State</th>\n",
       "      <td>SC</td>\n",
       "      <td>TX</td>\n",
       "      <td>CA</td>\n",
       "      <td>KS</td>\n",
       "      <td>NJ</td>\n",
       "    </tr>\n",
       "    <tr>\n",
       "      <th>Home.Ownership</th>\n",
       "      <td>MORTGAGE</td>\n",
       "      <td>MORTGAGE</td>\n",
       "      <td>MORTGAGE</td>\n",
       "      <td>MORTGAGE</td>\n",
       "      <td>RENT</td>\n",
       "    </tr>\n",
       "    <tr>\n",
       "      <th>Monthly.Income</th>\n",
       "      <td>6541.67</td>\n",
       "      <td>4583.33</td>\n",
       "      <td>11500</td>\n",
       "      <td>3833.33</td>\n",
       "      <td>3195</td>\n",
       "    </tr>\n",
       "    <tr>\n",
       "      <th>FICO.Range</th>\n",
       "      <td>735-739</td>\n",
       "      <td>715-719</td>\n",
       "      <td>690-694</td>\n",
       "      <td>695-699</td>\n",
       "      <td>695-699</td>\n",
       "    </tr>\n",
       "    <tr>\n",
       "      <th>Open.CREDIT.Lines</th>\n",
       "      <td>14</td>\n",
       "      <td>12</td>\n",
       "      <td>14</td>\n",
       "      <td>10</td>\n",
       "      <td>11</td>\n",
       "    </tr>\n",
       "    <tr>\n",
       "      <th>Revolving.CREDIT.Balance</th>\n",
       "      <td>14272</td>\n",
       "      <td>11140</td>\n",
       "      <td>21977</td>\n",
       "      <td>9346</td>\n",
       "      <td>14469</td>\n",
       "    </tr>\n",
       "    <tr>\n",
       "      <th>Inquiries.in.the.Last.6.Months</th>\n",
       "      <td>2</td>\n",
       "      <td>1</td>\n",
       "      <td>1</td>\n",
       "      <td>0</td>\n",
       "      <td>0</td>\n",
       "    </tr>\n",
       "    <tr>\n",
       "      <th>Employment.Length</th>\n",
       "      <td>&lt; 1 year</td>\n",
       "      <td>2 years</td>\n",
       "      <td>2 years</td>\n",
       "      <td>5 years</td>\n",
       "      <td>9 years</td>\n",
       "    </tr>\n",
       "  </tbody>\n",
       "</table>\n",
       "</div>"
      ],
      "text/plain": [
       "                                                 0                   1  \\\n",
       "CustNUm                                      81174               99592   \n",
       "Amount.Requested                             20000               19200   \n",
       "Amount.Funded.By.Investors                   20000               19200   \n",
       "Interest.Rate                                8.90%              12.12%   \n",
       "Loan.Length                              36 months           36 months   \n",
       "Loan.Purpose                    debt_consolidation  debt_consolidation   \n",
       "Debt.To.Income.Ratio                        14.90%              28.36%   \n",
       "State                                           SC                  TX   \n",
       "Home.Ownership                            MORTGAGE            MORTGAGE   \n",
       "Monthly.Income                             6541.67             4583.33   \n",
       "FICO.Range                                 735-739             715-719   \n",
       "Open.CREDIT.Lines                               14                  12   \n",
       "Revolving.CREDIT.Balance                     14272               11140   \n",
       "Inquiries.in.the.Last.6.Months                   2                   1   \n",
       "Employment.Length                         < 1 year             2 years   \n",
       "\n",
       "                                                 2                   3  \\\n",
       "CustNUm                                      80059               15825   \n",
       "Amount.Requested                             35000               10000   \n",
       "Amount.Funded.By.Investors                   35000                9975   \n",
       "Interest.Rate                               21.98%               9.99%   \n",
       "Loan.Length                              60 months           36 months   \n",
       "Loan.Purpose                    debt_consolidation  debt_consolidation   \n",
       "Debt.To.Income.Ratio                        23.81%              14.30%   \n",
       "State                                           CA                  KS   \n",
       "Home.Ownership                            MORTGAGE            MORTGAGE   \n",
       "Monthly.Income                               11500             3833.33   \n",
       "FICO.Range                                 690-694             695-699   \n",
       "Open.CREDIT.Lines                               14                  10   \n",
       "Revolving.CREDIT.Balance                     21977                9346   \n",
       "Inquiries.in.the.Last.6.Months                   1                   0   \n",
       "Employment.Length                          2 years             5 years   \n",
       "\n",
       "                                          4  \n",
       "CustNUm                               33182  \n",
       "Amount.Requested                      12000  \n",
       "Amount.Funded.By.Investors            12000  \n",
       "Interest.Rate                        11.71%  \n",
       "Loan.Length                       36 months  \n",
       "Loan.Purpose                    credit_card  \n",
       "Debt.To.Income.Ratio                 18.78%  \n",
       "State                                    NJ  \n",
       "Home.Ownership                         RENT  \n",
       "Monthly.Income                         3195  \n",
       "FICO.Range                          695-699  \n",
       "Open.CREDIT.Lines                        11  \n",
       "Revolving.CREDIT.Balance              14469  \n",
       "Inquiries.in.the.Last.6.Months            0  \n",
       "Employment.Length                   9 years  "
      ]
     },
     "execution_count": 7,
     "metadata": {},
     "output_type": "execute_result"
    }
   ],
   "source": [
    "loansData.head().transpose() #We transpose it so it will fit in the display window"
   ]
  },
  {
   "cell_type": "markdown",
   "metadata": {},
   "source": [
    "Next, let's run a quick line to get summary statistics of the numeric fields."
   ]
  },
  {
   "cell_type": "code",
   "execution_count": 8,
   "metadata": {},
   "outputs": [
    {
     "data": {
      "text/html": [
       "<div>\n",
       "<style scoped>\n",
       "    .dataframe tbody tr th:only-of-type {\n",
       "        vertical-align: middle;\n",
       "    }\n",
       "\n",
       "    .dataframe tbody tr th {\n",
       "        vertical-align: top;\n",
       "    }\n",
       "\n",
       "    .dataframe thead th {\n",
       "        text-align: right;\n",
       "    }\n",
       "</style>\n",
       "<table border=\"1\" class=\"dataframe\">\n",
       "  <thead>\n",
       "    <tr style=\"text-align: right;\">\n",
       "      <th></th>\n",
       "      <th>count</th>\n",
       "      <th>mean</th>\n",
       "      <th>std</th>\n",
       "      <th>min</th>\n",
       "      <th>25%</th>\n",
       "      <th>50%</th>\n",
       "      <th>75%</th>\n",
       "      <th>max</th>\n",
       "    </tr>\n",
       "  </thead>\n",
       "  <tbody>\n",
       "    <tr>\n",
       "      <th>CustNUm</th>\n",
       "      <td>2500.0</td>\n",
       "      <td>51631.597200</td>\n",
       "      <td>30053.345508</td>\n",
       "      <td>10.00</td>\n",
       "      <td>26523.00</td>\n",
       "      <td>50653.0</td>\n",
       "      <td>77580.50</td>\n",
       "      <td>104202.0</td>\n",
       "    </tr>\n",
       "    <tr>\n",
       "      <th>Amount.Requested</th>\n",
       "      <td>2500.0</td>\n",
       "      <td>12406.500000</td>\n",
       "      <td>7801.544872</td>\n",
       "      <td>1000.00</td>\n",
       "      <td>6000.00</td>\n",
       "      <td>10000.0</td>\n",
       "      <td>17000.00</td>\n",
       "      <td>35000.0</td>\n",
       "    </tr>\n",
       "    <tr>\n",
       "      <th>Amount.Funded.By.Investors</th>\n",
       "      <td>2500.0</td>\n",
       "      <td>12001.573236</td>\n",
       "      <td>7745.320754</td>\n",
       "      <td>-0.01</td>\n",
       "      <td>6000.00</td>\n",
       "      <td>10000.0</td>\n",
       "      <td>16000.00</td>\n",
       "      <td>35000.0</td>\n",
       "    </tr>\n",
       "    <tr>\n",
       "      <th>Monthly.Income</th>\n",
       "      <td>2499.0</td>\n",
       "      <td>5688.931321</td>\n",
       "      <td>3963.118185</td>\n",
       "      <td>588.50</td>\n",
       "      <td>3500.00</td>\n",
       "      <td>5000.0</td>\n",
       "      <td>6800.00</td>\n",
       "      <td>102750.0</td>\n",
       "    </tr>\n",
       "    <tr>\n",
       "      <th>Open.CREDIT.Lines</th>\n",
       "      <td>2498.0</td>\n",
       "      <td>10.075661</td>\n",
       "      <td>4.508644</td>\n",
       "      <td>2.00</td>\n",
       "      <td>7.00</td>\n",
       "      <td>9.0</td>\n",
       "      <td>13.00</td>\n",
       "      <td>38.0</td>\n",
       "    </tr>\n",
       "    <tr>\n",
       "      <th>Revolving.CREDIT.Balance</th>\n",
       "      <td>2498.0</td>\n",
       "      <td>15244.559648</td>\n",
       "      <td>18308.549795</td>\n",
       "      <td>0.00</td>\n",
       "      <td>5585.75</td>\n",
       "      <td>10962.0</td>\n",
       "      <td>18888.75</td>\n",
       "      <td>270800.0</td>\n",
       "    </tr>\n",
       "    <tr>\n",
       "      <th>Inquiries.in.the.Last.6.Months</th>\n",
       "      <td>2498.0</td>\n",
       "      <td>0.906325</td>\n",
       "      <td>1.231036</td>\n",
       "      <td>0.00</td>\n",
       "      <td>0.00</td>\n",
       "      <td>0.0</td>\n",
       "      <td>1.00</td>\n",
       "      <td>9.0</td>\n",
       "    </tr>\n",
       "  </tbody>\n",
       "</table>\n",
       "</div>"
      ],
      "text/plain": [
       "                                 count          mean           std      min  \\\n",
       "CustNUm                         2500.0  51631.597200  30053.345508    10.00   \n",
       "Amount.Requested                2500.0  12406.500000   7801.544872  1000.00   \n",
       "Amount.Funded.By.Investors      2500.0  12001.573236   7745.320754    -0.01   \n",
       "Monthly.Income                  2499.0   5688.931321   3963.118185   588.50   \n",
       "Open.CREDIT.Lines               2498.0     10.075661      4.508644     2.00   \n",
       "Revolving.CREDIT.Balance        2498.0  15244.559648  18308.549795     0.00   \n",
       "Inquiries.in.the.Last.6.Months  2498.0      0.906325      1.231036     0.00   \n",
       "\n",
       "                                     25%      50%       75%       max  \n",
       "CustNUm                         26523.00  50653.0  77580.50  104202.0  \n",
       "Amount.Requested                 6000.00  10000.0  17000.00   35000.0  \n",
       "Amount.Funded.By.Investors       6000.00  10000.0  16000.00   35000.0  \n",
       "Monthly.Income                   3500.00   5000.0   6800.00  102750.0  \n",
       "Open.CREDIT.Lines                   7.00      9.0     13.00      38.0  \n",
       "Revolving.CREDIT.Balance         5585.75  10962.0  18888.75  270800.0  \n",
       "Inquiries.in.the.Last.6.Months      0.00      0.0      1.00       9.0  "
      ]
     },
     "execution_count": 8,
     "metadata": {},
     "output_type": "execute_result"
    }
   ],
   "source": [
    "loansData.describe().transpose()"
   ]
  },
  {
   "cell_type": "markdown",
   "metadata": {},
   "source": [
    "Let's now focus on a single column, 'Monthly.Income.' First things first, let's display the first five records of just this field."
   ]
  },
  {
   "cell_type": "code",
   "execution_count": 13,
   "metadata": {},
   "outputs": [
    {
     "data": {
      "text/plain": [
       "0     6541.67\n",
       "1     4583.33\n",
       "2    11500.00\n",
       "3     3833.33\n",
       "4     3195.00\n",
       "Name: Monthly.Income, dtype: float64"
      ]
     },
     "execution_count": 13,
     "metadata": {},
     "output_type": "execute_result"
    }
   ],
   "source": [
    "#Student input line here\n",
    "loansData['Monthly.Income'][:5]"
   ]
  },
  {
   "cell_type": "markdown",
   "metadata": {},
   "source": [
    "Let's try and understand the distribution of this field. We can do this using the hist() method and matplotlib."
   ]
  },
  {
   "cell_type": "code",
   "execution_count": 17,
   "metadata": {},
   "outputs": [
    {
     "data": {
      "image/png": "[encoded data removed]",
      "text/plain": [
       "<Figure size 432x288 with 1 Axes>"
      ]
     },
     "metadata": {},
     "output_type": "display_data"
    }
   ],
   "source": [
    "plt.figure()\n",
    "hist_inc = loansData['Monthly.Income'].hist(bins = 50)\n",
    "plt.title('Histogram of Monthly Income')\n",
    "plt.show()"
   ]
  },
  {
   "cell_type": "markdown",
   "metadata": {},
   "source": [
    "How would you characterize the shape of this distribution? Is there anything we can do to the income variable to make the distribution more bell curved? Let's create a new column in the dataframe called 'Monthly.LogIncome' and print a histogram of it. What might be some advantages of making such a transformation?\n",
    "<br>\n"
   ]
  },
  {
   "cell_type": "code",
   "execution_count": 19,
   "metadata": {},
   "outputs": [],
   "source": [
    "#Student: Add a new column Monthly.LogIncome to the dataset that is the log of the Monthly.Income columne\n",
    "loansData['Monthly.LogIncome'] = np.log(loansData['Monthly.Income'])"
   ]
  },
  {
   "cell_type": "code",
   "execution_count": 21,
   "metadata": {},
   "outputs": [
    {
     "data": {
      "image/png": "[encoded data removed]",
      "text/plain": [
       "<Figure size 432x288 with 1 Axes>"
      ]
     },
     "metadata": {},
     "output_type": "display_data"
    }
   ],
   "source": [
    "#Now look at the distribution\n",
    "plt.figure()\n",
    "h = loansData['Monthly.LogIncome'].hist(bins = 50)\n",
    "plt.title('Histogram of Log(Monthly Income)')\n",
    "plt.show()"
   ]
  },
  {
   "cell_type": "markdown",
   "metadata": {},
   "source": [
    "Now let's answer some questions about the data.\n",
    "\n",
    "<b>Q1: What is the cardinality (i.e., # of distinct values) for 'Interest.Rate' and 'FICO.Range'</b>"
   ]
  },
  {
   "cell_type": "code",
   "execution_count": 31,
   "metadata": {},
   "outputs": [
    {
     "name": "stdout",
     "output_type": "stream",
     "text": [
      "Interest Rate Cardinality:  275\n",
      "FICO Range Cardinality:  38\n"
     ]
    }
   ],
   "source": [
    "#Student input code here - hint, the 'describe()' method returns a useful dataframe\n",
    "unique_IR = loansData['Interest.Rate'].describe().transpose()['unique']\n",
    "unique_FR = loansData['FICO.Range'].describe().transpose()['unique']\n",
    "print(\"Interest Rate Cardinality:  {}\".format(unique_IR))\n",
    "print(\"FICO Range Cardinality:  {}\".format(unique_FR))"
   ]
  },
  {
   "cell_type": "markdown",
   "metadata": {},
   "source": [
    "<b>Q2: What data type did Pandas set fo Interest.Rate? Can we create a new field which is stored as a float?</b>"
   ]
  },
  {
   "cell_type": "code",
   "execution_count": 33,
   "metadata": {},
   "outputs": [
    {
     "data": {
      "text/plain": [
       "dtype('O')"
      ]
     },
     "execution_count": 33,
     "metadata": {},
     "output_type": "execute_result"
    }
   ],
   "source": [
    "#Student input code here - show the field type\n",
    "loansData[\"Interest.Rate\"].dtypes"
   ]
  },
  {
   "cell_type": "markdown",
   "metadata": {},
   "source": [
    "In the cell below, create a new field 'Interest.Rate.Num' where 'Interest.Rate' is converted to a float. Hint: this can be done in one line using the .str assessor, strip and astype methods."
   ]
  },
  {
   "cell_type": "code",
   "execution_count": 40,
   "metadata": {},
   "outputs": [
    {
     "data": {
      "text/plain": [
       "0     8.90\n",
       "1    12.12\n",
       "2    21.98\n",
       "3     9.99\n",
       "4    11.71\n",
       "Name: Interest.Rate.Num, dtype: float64"
      ]
     },
     "execution_count": 40,
     "metadata": {},
     "output_type": "execute_result"
    }
   ],
   "source": [
    "#Student input code here - convert field to a float using the '.str' assessor\n",
    "loansData['Interest.Rate.Num'] = loansData['Interest.Rate'].str.strip('%').astype(float)\n",
    "loansData['Interest.Rate.Num'][:5]"
   ]
  },
  {
   "cell_type": "markdown",
   "metadata": {},
   "source": [
    "<b>Q3: Can we get a sense of the relationship between monthly income and interest rate? Use the scatter() function from Matplotlib.</b>"
   ]
  },
  {
   "cell_type": "code",
   "execution_count": 42,
   "metadata": {},
   "outputs": [
    {
     "data": {
      "text/plain": [
       "<matplotlib.collections.PathCollection at 0x12191a710>"
      ]
     },
     "execution_count": 42,
     "metadata": {},
     "output_type": "execute_result"
    },
    {
     "data": {
      "image/png": "[encoded data removed]",
      "text/plain": [
       "<Figure size 432x288 with 1 Axes>"
      ]
     },
     "metadata": {},
     "output_type": "display_data"
    }
   ],
   "source": [
    "#Student input line here\n",
    "plt.scatter(loansData['Interest.Rate.Num'], loansData['Monthly.Income'], alpha=.5, marker='.')"
   ]
  },
  {
   "cell_type": "markdown",
   "metadata": {},
   "source": [
    "Given the skewed distribution of Income, is this chart visually helpful? Let's try the Log of income instead."
   ]
  },
  {
   "cell_type": "code",
   "execution_count": 45,
   "metadata": {},
   "outputs": [
    {
     "data": {
      "text/plain": [
       "<matplotlib.collections.PathCollection at 0x121b4e2e8>"
      ]
     },
     "execution_count": 45,
     "metadata": {},
     "output_type": "execute_result"
    },
    {
     "data": {
      "image/png": "[encoded data removed]",
      "text/plain": [
       "<Figure size 432x288 with 1 Axes>"
      ]
     },
     "metadata": {},
     "output_type": "display_data"
    }
   ],
   "source": [
    "#Student input code here\n",
    "plt.scatter(loansData['Interest.Rate.Num'], loansData['Monthly.LogIncome'],alpha=.5, marker='.')"
   ]
  },
  {
   "cell_type": "markdown",
   "metadata": {},
   "source": [
    "<b>Q4: What is the average interest rate for each FICO range?</b> <br>\n",
    "Hint: use the groupby() method in Pandas."
   ]
  },
  {
   "cell_type": "code",
   "execution_count": 52,
   "metadata": {},
   "outputs": [],
   "source": [
    "#Student input code here\n",
    "fico_grp = loansData.groupby(by='FICO.Range')['Interest.Rate.Num'].mean()"
   ]
  },
  {
   "cell_type": "code",
   "execution_count": 53,
   "metadata": {},
   "outputs": [
    {
     "data": {
      "text/plain": [
       "FICO.Range\n",
       "640-644    15.212000\n",
       "645-649    14.883333\n",
       "650-654    15.130000\n",
       "655-659    14.930000\n",
       "660-664    18.492480\n",
       "665-669    17.448069\n",
       "670-674    16.248480\n",
       "675-679    15.854699\n",
       "680-684    15.126688\n",
       "685-689    14.654855\n",
       "690-694    14.732071\n",
       "695-699    14.146863\n",
       "700-704    13.356870\n",
       "705-709    12.659851\n",
       "710-714    12.433125\n",
       "715-719    11.181935\n",
       "720-724    11.035789\n",
       "725-729    10.652979\n",
       "730-734     9.956170\n",
       "735-739     9.623538\n",
       "740-744     9.592264\n",
       "745-749     9.901667\n",
       "750-754     8.467705\n",
       "755-759     8.996087\n",
       "760-764     8.627609\n",
       "765-769     7.783333\n",
       "770-774     6.752941\n",
       "775-779     8.744091\n",
       "780-784     7.589286\n",
       "785-789     8.497895\n",
       "790-794     7.560500\n",
       "795-799     8.391538\n",
       "800-804     7.638462\n",
       "805-809     7.426364\n",
       "810-814     8.293750\n",
       "815-819     6.925000\n",
       "820-824     7.900000\n",
       "830-834     7.620000\n",
       "Name: Interest.Rate.Num, dtype: float64"
      ]
     },
     "execution_count": 53,
     "metadata": {},
     "output_type": "execute_result"
    }
   ],
   "source": [
    "fico_grp"
   ]
  },
  {
   "cell_type": "code",
   "execution_count": null,
   "metadata": {
    "collapsed": true
   },
   "outputs": [],
   "source": []
  }
 ],
 "metadata": {
  "kernelspec": {
   "display_name": "Python 3",
   "language": "python",
   "name": "python3"
  },
  "language_info": {
   "codemirror_mode": {
    "name": "ipython",
    "version": 3
   },
   "file_extension": ".py",
   "mimetype": "text/x-python",
   "name": "python",
   "nbconvert_exporter": "python",
   "pygments_lexer": "ipython3",
   "version": "3.6.5"
  }
 },
 "nbformat": 4,
 "nbformat_minor": 1
}
